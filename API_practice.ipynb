{
 "cells": [
  {
   "cell_type": "code",
   "execution_count": 1,
   "id": "71d39fda",
   "metadata": {},
   "outputs": [],
   "source": [
    "\n",
    "from citipy import citipy"
   ]
  },
  {
   "cell_type": "code",
   "execution_count": 2,
   "id": "3cc40b40",
   "metadata": {},
   "outputs": [
    {
     "data": {
      "text/plain": [
       "<zip at 0x7fa0e91224c0>"
      ]
     },
     "execution_count": 2,
     "metadata": {},
     "output_type": "execute_result"
    }
   ],
   "source": [
    "# Create a practice set of random latitude and longitude combinations.\n",
    "x = [25.12903645, 25.92017388, 26.62509167, -59.98969384, 37.30571269]\n",
    "y = [-67.59741259, 11.09532135, 74.84233102, -76.89176677, -61.13376282]\n",
    "coordinates = zip(x, y)\n",
    "coordinates"
   ]
  },
  {
   "cell_type": "code",
   "execution_count": 3,
   "id": "24c94e47",
   "metadata": {},
   "outputs": [],
   "source": [
    "# #Use the tuple() function to display the latitude and longitude combinations.\n",
    "# for coordinate in coordinates:\n",
    "#       print (coordinate[0],coordinate[1])\n",
    "        "
   ]
  },
  {
   "cell_type": "code",
   "execution_count": 4,
   "id": "e1b7723b",
   "metadata": {},
   "outputs": [],
   "source": [
    "# city = citipy.nearest_city(coordinate[0],coordinate[1])\n",
    "# print(city)\n",
    "# city_name = city.city_name\n",
    "# print(city_name)\n",
    "# country_code = city.country_code\n",
    "# print(country_code)"
   ]
  },
  {
   "cell_type": "code",
   "execution_count": 5,
   "id": "436f82cc",
   "metadata": {},
   "outputs": [
    {
     "name": "stdout",
     "output_type": "stream",
     "text": [
      "cockburn town tc\n",
      "gat ly\n",
      "parvatsar in\n",
      "punta arenas cl\n",
      "saint george bm\n"
     ]
    }
   ],
   "source": [
    "# Use the tuple() function to display the latitude and longitude combinations.\n",
    "for coordinate in coordinates:\n",
    "    print(citipy.nearest_city(coordinate[0], coordinate[1]).city_name,citipy.nearest_city(coordinate[0], coordinate[1]).country_code)"
   ]
  },
  {
   "cell_type": "code",
   "execution_count": 6,
   "id": "9d2e6fc6",
   "metadata": {},
   "outputs": [],
   "source": [
    "#import the requests library \n",
    "import requests\n",
    "\n",
    "#Import the API key \n",
    "from config import weather_api_key"
   ]
  },
  {
   "cell_type": "code",
   "execution_count": 7,
   "id": "c146274f",
   "metadata": {},
   "outputs": [],
   "source": [
    "#Staring URL for Weather Map API call\n",
    "url = \"http://api.openweathermap.org/data/2.5/weather?units=Imperial&APPID=\" +weather_api_key\n"
   ]
  },
  {
   "cell_type": "code",
   "execution_count": 11,
   "id": "53320448",
   "metadata": {},
   "outputs": [],
   "source": [
    "#Create an endpoint URL for a city \n",
    "city_url = url +\"&q=\" + \"Boston\"\n",
    "# print(city_url)\n"
   ]
  },
  {
   "cell_type": "code",
   "execution_count": 14,
   "id": "5899d2d1",
   "metadata": {},
   "outputs": [
    {
     "data": {
      "text/plain": [
       "<Response [200]>"
      ]
     },
     "execution_count": 14,
     "metadata": {},
     "output_type": "execute_result"
    }
   ],
   "source": [
    "#MAke a get request for the city's weather \n",
    "city_weather = requests.get(city_url)\n",
    "city_weather"
   ]
  },
  {
   "cell_type": "code",
   "execution_count": 15,
   "id": "63d27a36",
   "metadata": {},
   "outputs": [
    {
     "data": {
      "text/plain": [
       "'{\"coord\":{\"lon\":-71.0598,\"lat\":42.3584},\"weather\":[{\"id\":803,\"main\":\"Clouds\",\"description\":\"broken clouds\",\"icon\":\"04n\"}],\"base\":\"stations\",\"main\":{\"temp\":37.11,\"feels_like\":33.98,\"temp_min\":31.71,\"temp_max\":41.22,\"pressure\":1021,\"humidity\":66},\"visibility\":10000,\"wind\":{\"speed\":4,\"deg\":0,\"gust\":0},\"clouds\":{\"all\":65},\"dt\":1638398138,\"sys\":{\"type\":2,\"id\":2009921,\"country\":\"US\",\"sunrise\":1638359654,\"sunset\":1638393176},\"timezone\":-18000,\"id\":4930956,\"name\":\"Boston\",\"cod\":200}'"
      ]
     },
     "execution_count": 15,
     "metadata": {},
     "output_type": "execute_result"
    }
   ],
   "source": [
    "#Get the text of the 'Get'request\n",
    "city_weather.text"
   ]
  },
  {
   "cell_type": "code",
   "execution_count": 16,
   "id": "3f29bb69",
   "metadata": {},
   "outputs": [
    {
     "data": {
      "text/plain": [
       "{'coord': {'lon': -71.0598, 'lat': 42.3584},\n",
       " 'weather': [{'id': 803,\n",
       "   'main': 'Clouds',\n",
       "   'description': 'broken clouds',\n",
       "   'icon': '04n'}],\n",
       " 'base': 'stations',\n",
       " 'main': {'temp': 37.11,\n",
       "  'feels_like': 33.98,\n",
       "  'temp_min': 31.71,\n",
       "  'temp_max': 41.22,\n",
       "  'pressure': 1021,\n",
       "  'humidity': 66},\n",
       " 'visibility': 10000,\n",
       " 'wind': {'speed': 4, 'deg': 0, 'gust': 0},\n",
       " 'clouds': {'all': 65},\n",
       " 'dt': 1638398138,\n",
       " 'sys': {'type': 2,\n",
       "  'id': 2009921,\n",
       "  'country': 'US',\n",
       "  'sunrise': 1638359654,\n",
       "  'sunset': 1638393176},\n",
       " 'timezone': -18000,\n",
       " 'id': 4930956,\n",
       " 'name': 'Boston',\n",
       " 'cod': 200}"
      ]
     },
     "execution_count": 16,
     "metadata": {},
     "output_type": "execute_result"
    }
   ],
   "source": [
    "#Get the json()text of the 'Get'request\n",
    "city_weather.json()"
   ]
  },
  {
   "cell_type": "code",
   "execution_count": 19,
   "id": "a1069e56",
   "metadata": {},
   "outputs": [
    {
     "name": "stdout",
     "output_type": "stream",
     "text": [
      "City weather found.\n"
     ]
    }
   ],
   "source": [
    "# #Create an endpoint URL for a city \n",
    "# city_url = url +\"&q=\" + \"Boston\"\n",
    "# city_weather = requests.get(city_url)\n",
    "# if city_weather.status_code == 200: \n",
    "#     print (f\"City weather found.\")\n",
    "# else: \n",
    "#     print (f\"City weather not found.\")"
   ]
  },
  {
   "cell_type": "code",
   "execution_count": 20,
   "id": "e8d834cb",
   "metadata": {},
   "outputs": [],
   "source": [
    "#Get the JSON data \n",
    "boston_data = city_weather.json()"
   ]
  },
  {
   "cell_type": "code",
   "execution_count": 22,
   "id": "f45bf554",
   "metadata": {},
   "outputs": [
    {
     "data": {
      "text/plain": [
       "'US'"
      ]
     },
     "execution_count": 22,
     "metadata": {},
     "output_type": "execute_result"
    }
   ],
   "source": [
    "#get data from different libraries in the dt\n",
    "boston_data['sys']['country']"
   ]
  },
  {
   "cell_type": "code",
   "execution_count": 26,
   "id": "de25dfe4",
   "metadata": {},
   "outputs": [
    {
     "data": {
      "text/plain": [
       "1638399273"
      ]
     },
     "execution_count": 26,
     "metadata": {},
     "output_type": "execute_result"
    }
   ],
   "source": [
    "#Get the date from the df\n",
    "boston_data['dt']"
   ]
  },
  {
   "cell_type": "code",
   "execution_count": 27,
   "id": "bde24e13",
   "metadata": {},
   "outputs": [
    {
     "name": "stdout",
     "output_type": "stream",
     "text": [
      "42.3584 -71.0598 40.44 68 65 4\n"
     ]
    }
   ],
   "source": [
    "lat = boston_data['coord']['lat']\n",
    "lng = boston_data['coord']['lon']\n",
    "max_temp = boston_data['main']['temp_max']\n",
    "humidity = boston_data['main']['humidity']\n",
    "clouds= boston_data['clouds']['all']\n",
    "wind=boston_data['wind']['speed']\n",
    "print(lat,lng,max_temp,humidity,clouds,wind)"
   ]
  },
  {
   "cell_type": "code",
   "execution_count": 29,
   "id": "e4a88996",
   "metadata": {},
   "outputs": [
    {
     "data": {
      "text/plain": [
       "datetime.datetime(2021, 12, 1, 22, 54, 33)"
      ]
     },
     "execution_count": 29,
     "metadata": {},
     "output_type": "execute_result"
    }
   ],
   "source": [
    "#Import datetime module \n",
    "from datetime import datetime\n",
    "#Get the datetime \n",
    "date = boston_data['dt']\n",
    "#convert datetime to date format w/ years ,month,day\n",
    "datetime.utcfromtimestamp(date)"
   ]
  },
  {
   "cell_type": "code",
   "execution_count": 31,
   "id": "4f15f914",
   "metadata": {},
   "outputs": [
    {
     "data": {
      "text/plain": [
       "'2021-12-01  22:54:33'"
      ]
     },
     "execution_count": 31,
     "metadata": {},
     "output_type": "execute_result"
    }
   ],
   "source": [
    "datetime.utcfromtimestamp(date).strftime('%Y-%m-%d  %H:%M:%S')"
   ]
  },
  {
   "cell_type": "code",
   "execution_count": null,
   "id": "c3b190f9",
   "metadata": {},
   "outputs": [],
   "source": []
  }
 ],
 "metadata": {
  "kernelspec": {
   "display_name": "PythonData",
   "language": "python",
   "name": "pythondata"
  },
  "language_info": {
   "codemirror_mode": {
    "name": "ipython",
    "version": 3
   },
   "file_extension": ".py",
   "mimetype": "text/x-python",
   "name": "python",
   "nbconvert_exporter": "python",
   "pygments_lexer": "ipython3",
   "version": "3.8.8"
  }
 },
 "nbformat": 4,
 "nbformat_minor": 5
}
