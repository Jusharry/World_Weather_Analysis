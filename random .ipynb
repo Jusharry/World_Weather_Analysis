{
 "cells": [
  {
   "cell_type": "code",
   "execution_count": 1,
   "id": "11be207c",
   "metadata": {},
   "outputs": [],
   "source": [
    "import random"
   ]
  },
  {
   "cell_type": "code",
   "execution_count": 7,
   "id": "dbf570dd",
   "metadata": {},
   "outputs": [
    {
     "data": {
      "text/plain": [
       "85"
      ]
     },
     "execution_count": 7,
     "metadata": {},
     "output_type": "execute_result"
    }
   ],
   "source": [
    "random.randint(-90,90)"
   ]
  },
  {
   "cell_type": "code",
   "execution_count": 9,
   "id": "fc048938",
   "metadata": {},
   "outputs": [
    {
     "data": {
      "text/plain": [
       "0.9512814761763194"
      ]
     },
     "execution_count": 9,
     "metadata": {},
     "output_type": "execute_result"
    }
   ],
   "source": [
    "random.random()"
   ]
  },
  {
   "cell_type": "code",
   "execution_count": 10,
   "id": "d087ec1b",
   "metadata": {},
   "outputs": [
    {
     "data": {
      "text/plain": [
       "-14"
      ]
     },
     "execution_count": 10,
     "metadata": {},
     "output_type": "execute_result"
    }
   ],
   "source": [
    "random.randrange(-90,90,1)"
   ]
  },
  {
   "cell_type": "code",
   "execution_count": 17,
   "id": "9a7f691a",
   "metadata": {},
   "outputs": [
    {
     "data": {
      "text/plain": [
       "-6"
      ]
     },
     "execution_count": 17,
     "metadata": {},
     "output_type": "execute_result"
    }
   ],
   "source": [
    "random.randrange(-90,90,3)"
   ]
  },
  {
   "cell_type": "code",
   "execution_count": 18,
   "id": "5ffcd592",
   "metadata": {},
   "outputs": [
    {
     "data": {
      "text/plain": [
       "-38.728776205831366"
      ]
     },
     "execution_count": 18,
     "metadata": {},
     "output_type": "execute_result"
    }
   ],
   "source": [
    "random.uniform(-90,90)"
   ]
  },
  {
   "cell_type": "code",
   "execution_count": 19,
   "id": "960b0adc",
   "metadata": {},
   "outputs": [],
   "source": [
    "import numpy as np"
   ]
  },
  {
   "cell_type": "code",
   "execution_count": 28,
   "id": "81a59096",
   "metadata": {},
   "outputs": [
    {
     "data": {
      "text/plain": [
       "-61.56149559333759"
      ]
     },
     "execution_count": 28,
     "metadata": {},
     "output_type": "execute_result"
    }
   ],
   "source": [
    "np.random.uniform(-90.000,90.000)"
   ]
  },
  {
   "cell_type": "code",
   "execution_count": 29,
   "id": "dfa57037",
   "metadata": {},
   "outputs": [
    {
     "data": {
      "text/plain": [
       "array([-85.01128693, -59.60562091, -72.40176976, -19.82676107,\n",
       "       -73.95825263, -10.49558699,  -0.29778764, -55.1604404 ,\n",
       "       -30.89606493, -19.4578204 , -79.67913288,  -1.32063594,\n",
       "       -68.8864106 , -85.6136335 ,  -0.17708464, -17.97164306,\n",
       "       -68.92348871, -13.91580118, -26.0137575 , -59.83067614,\n",
       "       -54.72785026, -28.01826721, -34.05937952, -22.64205202,\n",
       "       -47.95826479,  -1.93749655,  -5.99475714, -86.9878592 ,\n",
       "       -82.16949151, -82.73117601, -33.92205823, -71.48694459,\n",
       "       -44.45098134, -67.38258593, -59.23169582, -32.65619257,\n",
       "       -59.78961401, -84.34567402, -60.48159979, -21.46778713,\n",
       "       -42.15104076, -51.59944695, -78.84872907, -69.40741888,\n",
       "       -44.07430962, -48.69946718,  -3.61702194, -47.69465557,\n",
       "       -63.05237037, -58.47917817])"
      ]
     },
     "execution_count": 29,
     "metadata": {},
     "output_type": "execute_result"
    }
   ],
   "source": [
    "np.random.uniform(-90.90,size=50)"
   ]
  },
  {
   "cell_type": "code",
   "execution_count": null,
   "id": "562cebbf",
   "metadata": {},
   "outputs": [],
   "source": []
  }
 ],
 "metadata": {
  "kernelspec": {
   "display_name": "PythonData",
   "language": "python",
   "name": "pythondata"
  },
  "language_info": {
   "codemirror_mode": {
    "name": "ipython",
    "version": 3
   },
   "file_extension": ".py",
   "mimetype": "text/x-python",
   "name": "python",
   "nbconvert_exporter": "python",
   "pygments_lexer": "ipython3",
   "version": "3.8.8"
  }
 },
 "nbformat": 4,
 "nbformat_minor": 5
}
