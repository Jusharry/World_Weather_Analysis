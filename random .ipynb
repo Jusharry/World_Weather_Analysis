{
 "cells": [
  {
   "cell_type": "code",
   "execution_count": 1,
   "id": "11be207c",
   "metadata": {},
   "outputs": [],
   "source": [
    "import random"
   ]
  },
  {
   "cell_type": "code",
   "execution_count": 2,
   "id": "dbf570dd",
   "metadata": {},
   "outputs": [
    {
     "data": {
      "text/plain": [
       "-84"
      ]
     },
     "execution_count": 2,
     "metadata": {},
     "output_type": "execute_result"
    }
   ],
   "source": [
    "random.randint(-90,90)"
   ]
  },
  {
   "cell_type": "code",
   "execution_count": 3,
   "id": "fc048938",
   "metadata": {},
   "outputs": [
    {
     "data": {
      "text/plain": [
       "0.26254593319524266"
      ]
     },
     "execution_count": 3,
     "metadata": {},
     "output_type": "execute_result"
    }
   ],
   "source": [
    "random.random()"
   ]
  },
  {
   "cell_type": "code",
   "execution_count": 4,
   "id": "d087ec1b",
   "metadata": {},
   "outputs": [
    {
     "data": {
      "text/plain": [
       "-24"
      ]
     },
     "execution_count": 4,
     "metadata": {},
     "output_type": "execute_result"
    }
   ],
   "source": [
    "random.randrange(-90,90,1)"
   ]
  },
  {
   "cell_type": "code",
   "execution_count": 5,
   "id": "9a7f691a",
   "metadata": {},
   "outputs": [
    {
     "data": {
      "text/plain": [
       "54"
      ]
     },
     "execution_count": 5,
     "metadata": {},
     "output_type": "execute_result"
    }
   ],
   "source": [
    "random.randrange(-90,90,3)"
   ]
  },
  {
   "cell_type": "code",
   "execution_count": 6,
   "id": "5ffcd592",
   "metadata": {},
   "outputs": [
    {
     "data": {
      "text/plain": [
       "-33.73416390294735"
      ]
     },
     "execution_count": 6,
     "metadata": {},
     "output_type": "execute_result"
    }
   ],
   "source": [
    "random.uniform(-90,90)"
   ]
  },
  {
   "cell_type": "code",
   "execution_count": 7,
   "id": "960b0adc",
   "metadata": {},
   "outputs": [],
   "source": [
    "import numpy as np"
   ]
  },
  {
   "cell_type": "code",
   "execution_count": 8,
   "id": "81a59096",
   "metadata": {},
   "outputs": [
    {
     "data": {
      "text/plain": [
       "86.72938153138503"
      ]
     },
     "execution_count": 8,
     "metadata": {},
     "output_type": "execute_result"
    }
   ],
   "source": [
    "np.random.uniform(-90.000,90.000)"
   ]
  },
  {
   "cell_type": "code",
   "execution_count": 9,
   "id": "dfa57037",
   "metadata": {},
   "outputs": [
    {
     "data": {
      "text/plain": [
       "array([-34.12106333, -48.74172806, -20.70783064, -69.18399045,\n",
       "       -76.36248227,  -9.48715796, -67.45281466, -57.53347862,\n",
       "       -63.46642571, -80.97891952, -16.70327343, -29.79787562,\n",
       "       -31.0391627 , -85.39171947,  -7.0207702 ,  -1.17783341,\n",
       "       -28.78656677, -52.45354209, -26.86307837, -55.94904626,\n",
       "       -60.17873943, -15.50680095, -79.43679434, -90.8614508 ,\n",
       "       -64.90944716, -49.70616239, -19.36014562, -56.60932423,\n",
       "       -18.65809736, -66.33825297, -87.94786588, -81.24007626,\n",
       "       -80.76037442, -72.77685351, -42.72028907, -65.74228348,\n",
       "       -77.36762502, -48.49334647, -50.92393436,  -0.30599259,\n",
       "       -88.91069502, -39.37031629, -59.49554398, -32.72448868,\n",
       "       -30.00572065, -43.51186334, -60.6711807 , -79.21420543,\n",
       "       -60.2040342 , -33.42953343])"
      ]
     },
     "execution_count": 9,
     "metadata": {},
     "output_type": "execute_result"
    }
   ],
   "source": [
    "np.random.uniform(-90.90,size=50)"
   ]
  },
  {
   "cell_type": "code",
   "execution_count": 10,
   "id": "562cebbf",
   "metadata": {},
   "outputs": [],
   "source": [
    "#Import lineaer regression from the SciPy stats module\n",
    "\n",
    "from scipy.stats import linregress"
   ]
  },
  {
   "cell_type": "code",
   "execution_count": 11,
   "id": "ce6580e5",
   "metadata": {},
   "outputs": [],
   "source": [
    "lats = np.random.uniform(0,90,size = 10)\n",
    "temps = np.random.uniform(0,100, size =10)"
   ]
  },
  {
   "cell_type": "code",
   "execution_count": 12,
   "id": "b122521c",
   "metadata": {},
   "outputs": [
    {
     "name": "stdout",
     "output_type": "stream",
     "text": [
      "y = -0.41x + 65.37\n",
      "The p-value is: 0.207\n"
     ]
    }
   ],
   "source": [
    "# Perform linear regression.\n",
    "(slope, intercept, r_value, p_value, std_err) = linregress(lats, temps)\n",
    "# Get the equation of the line.\n",
    "line_eq = \"y = \" + str(round(slope,2)) + \"x + \" + str(round(intercept,2))\n",
    "print(line_eq)\n",
    "print(f\"The p-value is: {p_value:.3f}\")"
   ]
  },
  {
   "cell_type": "code",
   "execution_count": 13,
   "id": "032c8e1e",
   "metadata": {},
   "outputs": [],
   "source": [
    "# Calculate the regression line \"y values\" from the slope and intercept.\n",
    "regress_values = [(lat * slope + intercept) for lat in lats]"
   ]
  },
  {
   "cell_type": "code",
   "execution_count": 14,
   "id": "ebb17322",
   "metadata": {},
   "outputs": [
    {
     "data": {
      "image/png": "[encoded data removed]",
      "text/plain": [
       "<Figure size 432x288 with 1 Axes>"
      ]
     },
     "metadata": {
      "needs_background": "light"
     },
     "output_type": "display_data"
    }
   ],
   "source": [
    "# Import Matplotlib.\n",
    "import matplotlib.pyplot as plt\n",
    "# Create a scatter plot of the x and y values.\n",
    "plt.scatter(lats,temps)\n",
    "# Plot the regression line with the x-values and the y coordinates based on the intercept and slope.\n",
    "plt.plot(lats,regress_values,\"r\")\n",
    "# Annotate the text for the line equation and add its coordinates.\n",
    "plt.annotate(line_eq, (20,30), fontsize=15, color=\"red\")\n",
    "plt.xlabel('Latitude')\n",
    "plt.ylabel('Temp')\n",
    "plt.show()"
   ]
  },
  {
   "cell_type": "code",
   "execution_count": null,
   "id": "cde82497",
   "metadata": {},
   "outputs": [],
   "source": []
  }
 ],
 "metadata": {
  "kernelspec": {
   "display_name": "PythonData",
   "language": "python",
   "name": "pythondata"
  },
  "language_info": {
   "codemirror_mode": {
    "name": "ipython",
    "version": 3
   },
   "file_extension": ".py",
   "mimetype": "text/x-python",
   "name": "python",
   "nbconvert_exporter": "python",
   "pygments_lexer": "ipython3",
   "version": "3.8.8"
  }
 },
 "nbformat": 4,
 "nbformat_minor": 5
}
